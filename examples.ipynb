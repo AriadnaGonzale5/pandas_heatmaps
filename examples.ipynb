{
 "cells": [
  {
   "cell_type": "markdown",
   "id": "47f87967-ec30-40cf-abb1-4f87ec41246e",
   "metadata": {
    "tags": []
   },
   "source": [
    "# Setup"
   ]
  },
  {
   "cell_type": "code",
   "execution_count": 145,
   "id": "5b9e50da-c0e2-4cc0-b7d3-0b13b5d01492",
   "metadata": {
    "tags": []
   },
   "outputs": [],
   "source": [
    "import pandas as pd\n",
    "import numpy as np\n",
    "import seaborn as sns\n",
    "\n",
    "# seeding to ensure everyone has the same data\n",
    "np.random.seed(1)"
   ]
  },
  {
   "cell_type": "code",
   "execution_count": 146,
   "id": "bc5c032d-8715-4c89-a7a2-4aaa3be5f1b5",
   "metadata": {
    "tags": []
   },
   "outputs": [
    {
     "data": {
      "text/html": [
       "<div>\n",
       "<style scoped>\n",
       "    .dataframe tbody tr th:only-of-type {\n",
       "        vertical-align: middle;\n",
       "    }\n",
       "\n",
       "    .dataframe tbody tr th {\n",
       "        vertical-align: top;\n",
       "    }\n",
       "\n",
       "    .dataframe thead th {\n",
       "        text-align: right;\n",
       "    }\n",
       "</style>\n",
       "<table border=\"1\" class=\"dataframe\">\n",
       "  <thead>\n",
       "    <tr style=\"text-align: right;\">\n",
       "      <th></th>\n",
       "      <th>a</th>\n",
       "      <th>b</th>\n",
       "    </tr>\n",
       "  </thead>\n",
       "  <tbody>\n",
       "    <tr>\n",
       "      <th>0</th>\n",
       "      <td>66.243454</td>\n",
       "      <td>98</td>\n",
       "    </tr>\n",
       "    <tr>\n",
       "      <th>1</th>\n",
       "      <td>43.882436</td>\n",
       "      <td>8</td>\n",
       "    </tr>\n",
       "    <tr>\n",
       "      <th>2</th>\n",
       "      <td>44.718282</td>\n",
       "      <td>89</td>\n",
       "    </tr>\n",
       "    <tr>\n",
       "      <th>3</th>\n",
       "      <td>39.270314</td>\n",
       "      <td>27</td>\n",
       "    </tr>\n",
       "    <tr>\n",
       "      <th>4</th>\n",
       "      <td>58.654076</td>\n",
       "      <td>29</td>\n",
       "    </tr>\n",
       "  </tbody>\n",
       "</table>\n",
       "</div>"
      ],
      "text/plain": [
       "           a   b\n",
       "0  66.243454  98\n",
       "1  43.882436   8\n",
       "2  44.718282  89\n",
       "3  39.270314  27\n",
       "4  58.654076  29"
      ]
     },
     "execution_count": 146,
     "metadata": {},
     "output_type": "execute_result"
    }
   ],
   "source": [
    "# Creating a random dataframe with 1000 rows. \n",
    "# column a is normally distributed about a mean of 50 with an sd of 10\n",
    "# column b is uniformly distributed on the interval [0, 100]\n",
    "\n",
    "random_data = pd.DataFrame({'a': np.random.normal(50, 10, 1000), 'b': np.random.randint(0, 100, 1000)})\n",
    "random_data.head()"
   ]
  },
  {
   "cell_type": "code",
   "execution_count": 147,
   "id": "092038a3-c9b7-4002-88fd-fab4c748104c",
   "metadata": {
    "tags": []
   },
   "outputs": [
    {
     "data": {
      "text/html": [
       "<div>\n",
       "<style scoped>\n",
       "    .dataframe tbody tr th:only-of-type {\n",
       "        vertical-align: middle;\n",
       "    }\n",
       "\n",
       "    .dataframe tbody tr th {\n",
       "        vertical-align: top;\n",
       "    }\n",
       "\n",
       "    .dataframe thead th {\n",
       "        text-align: right;\n",
       "    }\n",
       "</style>\n",
       "<table border=\"1\" class=\"dataframe\">\n",
       "  <thead>\n",
       "    <tr style=\"text-align: right;\">\n",
       "      <th></th>\n",
       "      <th>a</th>\n",
       "      <th>b</th>\n",
       "    </tr>\n",
       "  </thead>\n",
       "  <tbody>\n",
       "    <tr>\n",
       "      <th>count</th>\n",
       "      <td>1000.000000</td>\n",
       "      <td>1000.000000</td>\n",
       "    </tr>\n",
       "    <tr>\n",
       "      <th>mean</th>\n",
       "      <td>50.388125</td>\n",
       "      <td>50.070000</td>\n",
       "    </tr>\n",
       "    <tr>\n",
       "      <th>std</th>\n",
       "      <td>9.814950</td>\n",
       "      <td>28.791041</td>\n",
       "    </tr>\n",
       "    <tr>\n",
       "      <th>min</th>\n",
       "      <td>19.462356</td>\n",
       "      <td>0.000000</td>\n",
       "    </tr>\n",
       "    <tr>\n",
       "      <th>25%</th>\n",
       "      <td>43.998396</td>\n",
       "      <td>25.000000</td>\n",
       "    </tr>\n",
       "    <tr>\n",
       "      <th>50%</th>\n",
       "      <td>50.412926</td>\n",
       "      <td>52.000000</td>\n",
       "    </tr>\n",
       "    <tr>\n",
       "      <th>75%</th>\n",
       "      <td>57.039989</td>\n",
       "      <td>75.000000</td>\n",
       "    </tr>\n",
       "    <tr>\n",
       "      <th>max</th>\n",
       "      <td>89.586027</td>\n",
       "      <td>99.000000</td>\n",
       "    </tr>\n",
       "  </tbody>\n",
       "</table>\n",
       "</div>"
      ],
      "text/plain": [
       "                 a            b\n",
       "count  1000.000000  1000.000000\n",
       "mean     50.388125    50.070000\n",
       "std       9.814950    28.791041\n",
       "min      19.462356     0.000000\n",
       "25%      43.998396    25.000000\n",
       "50%      50.412926    52.000000\n",
       "75%      57.039989    75.000000\n",
       "max      89.586027    99.000000"
      ]
     },
     "execution_count": 147,
     "metadata": {},
     "output_type": "execute_result"
    }
   ],
   "source": [
    "random_data.describe()"
   ]
  },
  {
   "cell_type": "code",
   "execution_count": 148,
   "id": "ebb666be-f038-4211-8ba6-2748c140cbcc",
   "metadata": {
    "tags": []
   },
   "outputs": [
    {
     "name": "stdout",
     "output_type": "stream",
     "text": [
      "<class 'pandas.core.frame.DataFrame'>\n",
      "RangeIndex: 1000 entries, 0 to 999\n",
      "Data columns (total 2 columns):\n",
      " #   Column  Non-Null Count  Dtype  \n",
      "---  ------  --------------  -----  \n",
      " 0   a       1000 non-null   float64\n",
      " 1   b       1000 non-null   int64  \n",
      "dtypes: float64(1), int64(1)\n",
      "memory usage: 15.8 KB\n"
     ]
    }
   ],
   "source": [
    "random_data.info()"
   ]
  },
  {
   "cell_type": "code",
   "execution_count": 149,
   "id": "8e5cf70f-195a-4d79-8986-9d6489a85a42",
   "metadata": {
    "tags": []
   },
   "outputs": [
    {
     "data": {
      "text/plain": [
       "array([[<Axes: title={'center': 'a'}>, <Axes: title={'center': 'b'}>]],\n",
       "      dtype=object)"
      ]
     },
     "execution_count": 149,
     "metadata": {},
     "output_type": "execute_result"
    },
    {
     "data": {
      "image/png": "[encoded data removed]",
      "text/plain": [
       "<Figure size 640x480 with 2 Axes>"
      ]
     },
     "metadata": {},
     "output_type": "display_data"
    }
   ],
   "source": [
    "random_data.hist(sharex=True, sharey=True)"
   ]
  },
  {
   "cell_type": "markdown",
   "id": "c6868cd6-a87d-4d51-adc2-6540a153b7b5",
   "metadata": {
    "tags": []
   },
   "source": [
    "# `pd.cut`\n",
    "\n",
    "[Pandas `pd.cut()`](https://pandas.pydata.org/pandas-docs/stable/reference/api/pandas.cut.html) is a function that takes a series of values and breaks it up into some specified number of **equal-size** categories based on the range of the series, optionally labeling each category.\n",
    "\n",
    "For example consider the following toy dataframe:"
   ]
  },
  {
   "cell_type": "code",
   "execution_count": 150,
   "id": "59c85eb9-45df-4403-8eb9-b870135cae5a",
   "metadata": {
    "tags": []
   },
   "outputs": [
    {
     "data": {
      "text/html": [
       "<div>\n",
       "<style scoped>\n",
       "    .dataframe tbody tr th:only-of-type {\n",
       "        vertical-align: middle;\n",
       "    }\n",
       "\n",
       "    .dataframe tbody tr th {\n",
       "        vertical-align: top;\n",
       "    }\n",
       "\n",
       "    .dataframe thead th {\n",
       "        text-align: right;\n",
       "    }\n",
       "</style>\n",
       "<table border=\"1\" class=\"dataframe\">\n",
       "  <thead>\n",
       "    <tr style=\"text-align: right;\">\n",
       "      <th></th>\n",
       "      <th>x</th>\n",
       "    </tr>\n",
       "  </thead>\n",
       "  <tbody>\n",
       "    <tr>\n",
       "      <th>0</th>\n",
       "      <td>1</td>\n",
       "    </tr>\n",
       "    <tr>\n",
       "      <th>1</th>\n",
       "      <td>2</td>\n",
       "    </tr>\n",
       "    <tr>\n",
       "      <th>2</th>\n",
       "      <td>3</td>\n",
       "    </tr>\n",
       "    <tr>\n",
       "      <th>3</th>\n",
       "      <td>4</td>\n",
       "    </tr>\n",
       "    <tr>\n",
       "      <th>4</th>\n",
       "      <td>100</td>\n",
       "    </tr>\n",
       "  </tbody>\n",
       "</table>\n",
       "</div>"
      ],
      "text/plain": [
       "     x\n",
       "0    1\n",
       "1    2\n",
       "2    3\n",
       "3    4\n",
       "4  100"
      ]
     },
     "execution_count": 150,
     "metadata": {},
     "output_type": "execute_result"
    }
   ],
   "source": [
    "df = pd.DataFrame({'x': [1, 2, 3, 4, 100]})\n",
    "df"
   ]
  },
  {
   "cell_type": "markdown",
   "id": "5f4e5a67-fa27-4572-8340-e72c14c5a500",
   "metadata": {},
   "source": [
    "We see the values of x range from 1 to 100. If we were to cut this range into five equal-sized categories, we expect each category to be 20 'units' wide. "
   ]
  },
  {
   "cell_type": "code",
   "execution_count": 151,
   "id": "180ece90-0478-4cbc-abcc-3619c885f92e",
   "metadata": {
    "tags": []
   },
   "outputs": [
    {
     "data": {
      "text/plain": [
       "0    (0.901, 20.8]\n",
       "1    (0.901, 20.8]\n",
       "2    (0.901, 20.8]\n",
       "3    (0.901, 20.8]\n",
       "4    (80.2, 100.0]\n",
       "Name: x, dtype: category\n",
       "Categories (5, interval[float64, right]): [(0.901, 20.8] < (20.8, 40.6] < (40.6, 60.4] < (60.4, 80.2] < (80.2, 100.0]]"
      ]
     },
     "execution_count": 151,
     "metadata": {},
     "output_type": "execute_result"
    }
   ],
   "source": [
    "\n",
    "# Setting the number of bins to 5\n",
    "labels = pd.cut(df['x'], bins=5)\n",
    "\n",
    "labels"
   ]
  },
  {
   "cell_type": "markdown",
   "id": "43e713e0-8951-41f6-a460-8fcee26d0272",
   "metadata": {},
   "source": [
    "We see we get back a series of values where each value represents the interval that data point was \"binned\" into. Note that each bin *is not* exactly 20 units wide, since \"the range of x is extended by .1% on each side to include the minimum and maximum values of x\" [(source)](https://pandas.pydata.org/pandas-docs/stable/reference/api/pandas.cut.html#pandas-cut)\n",
    "\n",
    "In this example, the first four points are placed into the bin starting at 0.901 and ending at 20.8, while the last point goes into the bin starting at 80.2 and ending at 100.0.\n",
    "\n",
    "We can also optionally pass `pd.cut` a list of labels for the bins:"
   ]
  },
  {
   "cell_type": "code",
   "execution_count": 152,
   "id": "992347ad-e3b7-4732-ab0d-6e18004e2a45",
   "metadata": {
    "tags": []
   },
   "outputs": [
    {
     "data": {
      "text/plain": [
       "0     low\n",
       "1     low\n",
       "2     low\n",
       "3     low\n",
       "4    high\n",
       "Name: x, dtype: category\n",
       "Categories (3, object): ['low' < 'medium' < 'high']"
      ]
     },
     "execution_count": 152,
     "metadata": {},
     "output_type": "execute_result"
    }
   ],
   "source": [
    "pd.cut(df['x'], bins=3, labels=['low', 'medium', 'high'])"
   ]
  },
  {
   "cell_type": "markdown",
   "id": "a49757e8-e2b6-4b03-953f-b26a729f3212",
   "metadata": {},
   "source": [
    "`pd.cut` can be used to cast numerical data as *categorical* data. Here we'll use the `random_data` from the beginning of the notebook:"
   ]
  },
  {
   "cell_type": "code",
   "execution_count": 153,
   "id": "9f156f05-a210-4e0f-a8da-4cd049ae4b89",
   "metadata": {
    "tags": []
   },
   "outputs": [
    {
     "data": {
      "text/plain": [
       "0      high\n",
       "1       mid\n",
       "2       mid\n",
       "3       low\n",
       "4       mid\n",
       "       ... \n",
       "995     mid\n",
       "996     low\n",
       "997     mid\n",
       "998     mid\n",
       "999     mid\n",
       "Name: a, Length: 1000, dtype: category\n",
       "Categories (3, object): ['low' < 'mid' < 'high']"
      ]
     },
     "execution_count": 153,
     "metadata": {},
     "output_type": "execute_result"
    }
   ],
   "source": [
    "a_categories = pd.cut(random_data['a'], bins=3, labels=['low', 'mid', 'high'])\n",
    "a_categories"
   ]
  },
  {
   "cell_type": "markdown",
   "id": "61926a10-45bf-438b-8760-e131e0ec0a9b",
   "metadata": {},
   "source": [
    "Then we can attach this new data to the original dataframe by adding a column:"
   ]
  },
  {
   "cell_type": "code",
   "execution_count": 154,
   "id": "f2903685-7981-470b-88ac-267bb8077469",
   "metadata": {
    "tags": []
   },
   "outputs": [
    {
     "data": {
      "text/html": [
       "<div>\n",
       "<style scoped>\n",
       "    .dataframe tbody tr th:only-of-type {\n",
       "        vertical-align: middle;\n",
       "    }\n",
       "\n",
       "    .dataframe tbody tr th {\n",
       "        vertical-align: top;\n",
       "    }\n",
       "\n",
       "    .dataframe thead th {\n",
       "        text-align: right;\n",
       "    }\n",
       "</style>\n",
       "<table border=\"1\" class=\"dataframe\">\n",
       "  <thead>\n",
       "    <tr style=\"text-align: right;\">\n",
       "      <th></th>\n",
       "      <th>a</th>\n",
       "      <th>b</th>\n",
       "      <th>a_rank</th>\n",
       "    </tr>\n",
       "  </thead>\n",
       "  <tbody>\n",
       "    <tr>\n",
       "      <th>0</th>\n",
       "      <td>66.243454</td>\n",
       "      <td>98</td>\n",
       "      <td>high</td>\n",
       "    </tr>\n",
       "    <tr>\n",
       "      <th>1</th>\n",
       "      <td>43.882436</td>\n",
       "      <td>8</td>\n",
       "      <td>mid</td>\n",
       "    </tr>\n",
       "    <tr>\n",
       "      <th>2</th>\n",
       "      <td>44.718282</td>\n",
       "      <td>89</td>\n",
       "      <td>mid</td>\n",
       "    </tr>\n",
       "    <tr>\n",
       "      <th>3</th>\n",
       "      <td>39.270314</td>\n",
       "      <td>27</td>\n",
       "      <td>low</td>\n",
       "    </tr>\n",
       "    <tr>\n",
       "      <th>4</th>\n",
       "      <td>58.654076</td>\n",
       "      <td>29</td>\n",
       "      <td>mid</td>\n",
       "    </tr>\n",
       "  </tbody>\n",
       "</table>\n",
       "</div>"
      ],
      "text/plain": [
       "           a   b a_rank\n",
       "0  66.243454  98   high\n",
       "1  43.882436   8    mid\n",
       "2  44.718282  89    mid\n",
       "3  39.270314  27    low\n",
       "4  58.654076  29    mid"
      ]
     },
     "execution_count": 154,
     "metadata": {},
     "output_type": "execute_result"
    }
   ],
   "source": [
    "random_data['a_rank'] = a_categories\n",
    "random_data.head()"
   ]
  },
  {
   "cell_type": "code",
   "execution_count": 155,
   "id": "eec07299-68f9-4f40-9ca0-a35ff132ca47",
   "metadata": {
    "tags": []
   },
   "outputs": [
    {
     "data": {
      "text/plain": [
       "a_rank\n",
       "mid     736\n",
       "low     211\n",
       "high     53\n",
       "Name: count, dtype: int64"
      ]
     },
     "execution_count": 155,
     "metadata": {},
     "output_type": "execute_result"
    }
   ],
   "source": [
    "random_data['a_rank'].value_counts()"
   ]
  },
  {
   "cell_type": "markdown",
   "id": "cade9840-5793-48e0-9b93-bebc59ab630c",
   "metadata": {},
   "source": [
    "Unsurprisingly for a normal (\"bell-shaped\") distribution we see that most of our values fall in the 'mid' category. Repeating the same process for column 'b':"
   ]
  },
  {
   "cell_type": "code",
   "execution_count": 156,
   "id": "2e4381e7-31b9-47f4-ad7b-6ac68ab8594e",
   "metadata": {
    "tags": []
   },
   "outputs": [
    {
     "data": {
      "text/plain": [
       "b_rank\n",
       "high    343\n",
       "mid     329\n",
       "low     328\n",
       "Name: count, dtype: int64"
      ]
     },
     "execution_count": 156,
     "metadata": {},
     "output_type": "execute_result"
    }
   ],
   "source": [
    "random_data['b_rank'] = pd.cut(random_data['b'], bins=3, labels=['low', 'mid', 'high'])\n",
    "random_data['b_rank'].value_counts()"
   ]
  },
  {
   "cell_type": "markdown",
   "id": "af70f4b9-3c33-482d-8663-30da4809a211",
   "metadata": {},
   "source": [
    "Here we see that the counts are roughly the same across categories as expected for a uniform (\"flat\") distribution."
   ]
  },
  {
   "cell_type": "markdown",
   "id": "e16b427a-0f6d-47db-902d-6d03a994e070",
   "metadata": {},
   "source": [
    "# `pd.qcut`\n",
    "\n",
    "[Pandas `pd.qcut`](https://pandas.pydata.org/pandas-docs/stable/reference/api/pandas.qcut.html#pandas-qcut) functions similarly to `pd.cut`, only it bins the data based on the *distribution* of the values rather than the range. Instead of cutting the series into bins of equal size, `pd.qcut` does its best to ensure that each bin gets roughly the same number of data points. In other words, `pd.qcut` categorizes by [*quantile*](https://en.wikipedia.org/wiki/Quantile).\n",
    "\n",
    "Using `pd.qcut` is very similar to using `pd.cut`, only instead of the `bins=` argument, we pass an integer with the `q=` argument. Here's a quick reminder of what our toy dataframe looked like"
   ]
  },
  {
   "cell_type": "code",
   "execution_count": 157,
   "id": "c6f8e71a-e4ac-42c5-81bc-f545b0d21052",
   "metadata": {
    "tags": []
   },
   "outputs": [
    {
     "data": {
      "text/html": [
       "<div>\n",
       "<style scoped>\n",
       "    .dataframe tbody tr th:only-of-type {\n",
       "        vertical-align: middle;\n",
       "    }\n",
       "\n",
       "    .dataframe tbody tr th {\n",
       "        vertical-align: top;\n",
       "    }\n",
       "\n",
       "    .dataframe thead th {\n",
       "        text-align: right;\n",
       "    }\n",
       "</style>\n",
       "<table border=\"1\" class=\"dataframe\">\n",
       "  <thead>\n",
       "    <tr style=\"text-align: right;\">\n",
       "      <th></th>\n",
       "      <th>x</th>\n",
       "    </tr>\n",
       "  </thead>\n",
       "  <tbody>\n",
       "    <tr>\n",
       "      <th>0</th>\n",
       "      <td>1</td>\n",
       "    </tr>\n",
       "    <tr>\n",
       "      <th>1</th>\n",
       "      <td>2</td>\n",
       "    </tr>\n",
       "    <tr>\n",
       "      <th>2</th>\n",
       "      <td>3</td>\n",
       "    </tr>\n",
       "    <tr>\n",
       "      <th>3</th>\n",
       "      <td>4</td>\n",
       "    </tr>\n",
       "    <tr>\n",
       "      <th>4</th>\n",
       "      <td>100</td>\n",
       "    </tr>\n",
       "  </tbody>\n",
       "</table>\n",
       "</div>"
      ],
      "text/plain": [
       "     x\n",
       "0    1\n",
       "1    2\n",
       "2    3\n",
       "3    4\n",
       "4  100"
      ]
     },
     "execution_count": 157,
     "metadata": {},
     "output_type": "execute_result"
    }
   ],
   "source": [
    "df"
   ]
  },
  {
   "cell_type": "markdown",
   "id": "26be2bcf-dced-41bc-b84a-b8e8dfc252e4",
   "metadata": {},
   "source": [
    "Now let's use `pd.qcut` with 5 quantiles:"
   ]
  },
  {
   "cell_type": "code",
   "execution_count": 158,
   "id": "39075f75-bc08-4c7b-9dbf-8300ccab27cf",
   "metadata": {
    "tags": []
   },
   "outputs": [
    {
     "data": {
      "text/plain": [
       "0     (0.999, 1.8]\n",
       "1       (1.8, 2.6]\n",
       "2       (2.6, 3.4]\n",
       "3      (3.4, 23.2]\n",
       "4    (23.2, 100.0]\n",
       "Name: x, dtype: category\n",
       "Categories (5, interval[float64, right]): [(0.999, 1.8] < (1.8, 2.6] < (2.6, 3.4] < (3.4, 23.2] < (23.2, 100.0]]"
      ]
     },
     "execution_count": 158,
     "metadata": {},
     "output_type": "execute_result"
    }
   ],
   "source": [
    "pd.qcut(df['x'], q=5)"
   ]
  },
  {
   "cell_type": "markdown",
   "id": "1ec152dc-45bb-47c3-a5d4-cd2bbf5dc322",
   "metadata": {},
   "source": [
    "Unsurprisingly, since each data point is unique and there are just as many bins as data points, we get one point assigned to each bin. Note how the size of each bin is *no longer constant*!\n",
    "\n",
    "Let's see how this behaves on the larger, randomized dataframe:"
   ]
  },
  {
   "cell_type": "code",
   "execution_count": 159,
   "id": "cf3ba9cd-b658-4b5e-a553-4eaa1a368b9a",
   "metadata": {
    "tags": []
   },
   "outputs": [
    {
     "data": {
      "text/plain": [
       "a\n",
       "(19.461, 42.439]    200\n",
       "(42.439, 48.081]    200\n",
       "(48.081, 53.153]    200\n",
       "(53.153, 58.546]    200\n",
       "(58.546, 89.586]    200\n",
       "Name: count, dtype: int64"
      ]
     },
     "execution_count": 159,
     "metadata": {},
     "output_type": "execute_result"
    }
   ],
   "source": [
    "pd.qcut(random_data['a'], q=5).value_counts()"
   ]
  },
  {
   "cell_type": "code",
   "execution_count": 160,
   "id": "40c42cd5-8fff-4218-ac51-2948f0a1600a",
   "metadata": {
    "tags": []
   },
   "outputs": [
    {
     "data": {
      "text/plain": [
       "b\n",
       "(21.8, 40.0]      206\n",
       "(61.0, 80.0]      204\n",
       "(-0.001, 21.8]    200\n",
       "(40.0, 61.0]      200\n",
       "(80.0, 99.0]      190\n",
       "Name: count, dtype: int64"
      ]
     },
     "execution_count": 160,
     "metadata": {},
     "output_type": "execute_result"
    }
   ],
   "source": [
    "pd.qcut(random_data['b'], q=5).value_counts()"
   ]
  },
  {
   "cell_type": "markdown",
   "id": "a4883bbb-d01d-4ede-87cb-9312fe82367f",
   "metadata": {},
   "source": [
    "Even though the underlying distributions are different, we get roughly the same number of data points *per bin*. However, notice how the *size* of the bins varies with the underlying distribution!"
   ]
  }
 ],
 "metadata": {
  "kernelspec": {
   "display_name": "Python 3 (ipykernel)",
   "language": "python",
   "name": "python3"
  },
  "language_info": {
   "codemirror_mode": {
    "name": "ipython",
    "version": 3
   },
   "file_extension": ".py",
   "mimetype": "text/x-python",
   "name": "python",
   "nbconvert_exporter": "python",
   "pygments_lexer": "ipython3",
   "version": "3.10.3"
  }
 },
 "nbformat": 4,
 "nbformat_minor": 5
}
